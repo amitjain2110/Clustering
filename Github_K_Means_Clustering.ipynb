{
 "cells": [
  {
   "cell_type": "code",
   "execution_count": 1,
   "id": "critical-cooking",
   "metadata": {},
   "outputs": [],
   "source": [
    "# importing required libraries\n",
    "import pandas as pd\n",
    "from sklearn.cluster import KMeans"
   ]
  },
  {
   "cell_type": "code",
   "execution_count": 2,
   "id": "married-institute",
   "metadata": {},
   "outputs": [],
   "source": [
    "# read the train and test dataset\n",
    "train_data = pd.read_csv('train-data-kmeans.csv')\n",
    "test_data = pd.read_csv('test-data-kmeans.csv')"
   ]
  },
  {
   "cell_type": "code",
   "execution_count": 3,
   "id": "descending-horror",
   "metadata": {},
   "outputs": [
    {
     "name": "stdout",
     "output_type": "stream",
     "text": [
      "Shape of training data : (100, 5)\n",
      "Shape of testing data : (100, 5)\n"
     ]
    }
   ],
   "source": [
    "# shape of the dataset\n",
    "print('Shape of training data :',train_data.shape)\n",
    "print('Shape of testing data :',test_data.shape)"
   ]
  },
  {
   "cell_type": "code",
   "execution_count": 6,
   "id": "general-monster",
   "metadata": {},
   "outputs": [],
   "source": [
    "#Create the object of the K-Means model\n",
    "model = KMeans()  "
   ]
  },
  {
   "cell_type": "code",
   "execution_count": 7,
   "id": "communist-arnold",
   "metadata": {},
   "outputs": [
    {
     "data": {
      "text/plain": [
       "KMeans()"
      ]
     },
     "execution_count": 7,
     "metadata": {},
     "output_type": "execute_result"
    }
   ],
   "source": [
    "# fit the model with the training data\n",
    "model.fit(train_data)"
   ]
  },
  {
   "cell_type": "code",
   "execution_count": 8,
   "id": "adverse-evaluation",
   "metadata": {},
   "outputs": [
    {
     "name": "stdout",
     "output_type": "stream",
     "text": [
      "\n",
      "Default number of Clusters :  8\n"
     ]
    }
   ],
   "source": [
    "# Number of Clusters\n",
    "print('\\nDefault number of Clusters : ',model.n_clusters)"
   ]
  },
  {
   "cell_type": "code",
   "execution_count": 9,
   "id": "secret-illness",
   "metadata": {},
   "outputs": [
    {
     "name": "stdout",
     "output_type": "stream",
     "text": [
      "\n",
      "CLusters on train data [4 5 6 5 4 3 3 5 5 2 1 1 2 6 5 1 6 0 3 4 0 2 2 6 0 6 1 1 6 2 0 2 2 6 6 1 7\n",
      " 1 0 2 6 7 1 1 6 2 2 6 5 1 2 6 3 1 6 1 3 0 4 0 2 4 3 6 2 6 0 2 2 1 3 1 4 3\n",
      " 5 5 4 2 3 2 3 2 1 3 7 3 6 2 7 2 0 5 1 6 1 3 2 4 1 4]\n"
     ]
    }
   ],
   "source": [
    "# predict the clusters on the train dataset\n",
    "predict_train = model.predict(train_data)\n",
    "print('\\nCLusters on train data',predict_train) "
   ]
  },
  {
   "cell_type": "code",
   "execution_count": 10,
   "id": "floral-journalism",
   "metadata": {},
   "outputs": [
    {
     "name": "stdout",
     "output_type": "stream",
     "text": [
      "Clusters on test data [2 4 7 6 3 4 6 2 3 7 2 0 3 3 3 2 2 3 3 5 6 6 3 3 2 3 6 4 3 6 1 4 2 3 4 6 1\n",
      " 5 2 6 6 4 7 6 3 2 3 5 2 2 0 4 2 1 4 2 1 2 2 7 2 2 3 1 5 3 1 3 2 2 3 7 6 1\n",
      " 3 6 2 6 2 4 2 3 0 6 7 4 2 3 4 6 4 0 2 3 6 4 4 4 1 6]\n"
     ]
    }
   ],
   "source": [
    "# predict the target on the test dataset\n",
    "predict_test = model.predict(test_data)\n",
    "print('Clusters on test data',predict_test) "
   ]
  },
  {
   "cell_type": "code",
   "execution_count": 11,
   "id": "gentle-rebel",
   "metadata": {},
   "outputs": [],
   "source": [
    "# Now, we will train a model with n_cluster = 3\n",
    "model_n3 = KMeans(n_clusters=3)"
   ]
  },
  {
   "cell_type": "code",
   "execution_count": 12,
   "id": "weighted-hebrew",
   "metadata": {},
   "outputs": [
    {
     "data": {
      "text/plain": [
       "KMeans(n_clusters=3)"
      ]
     },
     "execution_count": 12,
     "metadata": {},
     "output_type": "execute_result"
    }
   ],
   "source": [
    "# fit the model with the training data\n",
    "model_n3.fit(train_data)"
   ]
  },
  {
   "cell_type": "code",
   "execution_count": 13,
   "id": "paperback-beverage",
   "metadata": {},
   "outputs": [
    {
     "name": "stdout",
     "output_type": "stream",
     "text": [
      "\n",
      "Number of Clusters :  3\n"
     ]
    }
   ],
   "source": [
    "# Number of Clusters\n",
    "print('\\nNumber of Clusters : ',model_n3.n_clusters)"
   ]
  },
  {
   "cell_type": "code",
   "execution_count": 14,
   "id": "continuing-apparel",
   "metadata": {},
   "outputs": [
    {
     "name": "stdout",
     "output_type": "stream",
     "text": [
      "\n",
      "CLusters on train data [1 2 0 2 1 0 1 2 2 1 2 2 1 0 2 2 0 1 1 1 1 1 1 0 1 0 2 2 0 1 1 1 1 0 0 2 1\n",
      " 2 1 1 0 1 2 2 0 1 1 0 2 2 1 0 1 2 0 2 1 1 1 1 1 1 1 0 1 0 1 1 1 2 0 2 1 1\n",
      " 2 2 2 1 2 1 1 1 2 1 1 1 0 1 1 1 1 2 2 0 2 1 1 1 2 1]\n"
     ]
    }
   ],
   "source": [
    "# predict the clusters on the train dataset\n",
    "predict_train_3 = model_n3.predict(train_data)\n",
    "print('\\nCLusters on train data',predict_train_3) "
   ]
  },
  {
   "cell_type": "code",
   "execution_count": 15,
   "id": "inner-sapphire",
   "metadata": {},
   "outputs": [
    {
     "name": "stdout",
     "output_type": "stream",
     "text": [
      "Clusters on test data [1 1 1 0 1 1 0 1 1 1 1 1 1 0 0 1 1 1 1 2 0 0 1 1 1 1 0 1 1 0 2 1 1 1 1 0 2\n",
      " 2 1 0 0 1 1 0 1 1 1 2 1 1 1 1 1 2 1 1 2 1 1 1 1 1 1 2 2 1 2 1 1 1 2 1 0 2\n",
      " 1 0 1 0 1 2 1 1 1 0 1 1 1 1 1 0 1 1 1 1 0 1 1 1 2 0]\n"
     ]
    }
   ],
   "source": [
    "# predict the target on the test dataset\n",
    "predict_test_3 = model_n3.predict(test_data)\n",
    "print('Clusters on test data',predict_test_3) "
   ]
  },
  {
   "cell_type": "code",
   "execution_count": null,
   "id": "acting-tattoo",
   "metadata": {},
   "outputs": [],
   "source": []
  },
  {
   "cell_type": "code",
   "execution_count": null,
   "id": "convenient-investment",
   "metadata": {},
   "outputs": [],
   "source": []
  }
 ],
 "metadata": {
  "kernelspec": {
   "display_name": "Python 3",
   "language": "python",
   "name": "python3"
  },
  "language_info": {
   "codemirror_mode": {
    "name": "ipython",
    "version": 3
   },
   "file_extension": ".py",
   "mimetype": "text/x-python",
   "name": "python",
   "nbconvert_exporter": "python",
   "pygments_lexer": "ipython3",
   "version": "3.8.12"
  }
 },
 "nbformat": 4,
 "nbformat_minor": 5
}
